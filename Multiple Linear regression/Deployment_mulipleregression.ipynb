{
 "cells": [
  {
   "cell_type": "code",
   "execution_count": 10,
   "id": "096bff38",
   "metadata": {},
   "outputs": [],
   "source": [
    "import pickle"
   ]
  },
  {
   "cell_type": "code",
   "execution_count": 11,
   "id": "b082549f",
   "metadata": {},
   "outputs": [
    {
     "name": "stderr",
     "output_type": "stream",
     "text": [
      "C:\\Anaconda3\\Lib\\site-packages\\sklearn\\base.py:464: UserWarning: X does not have valid feature names, but LinearRegression was fitted with feature names\n",
      "  warnings.warn(\n"
     ]
    }
   ],
   "source": [
    "# loads a trained linear regression model from a file named \"finalized_model_multiplelinear.sav\", rb- read in binary \n",
    "loaded_model=pickle.load(open(\"finalized_model_multiplelinear.sav\",'rb'))\n",
    "#predictions are made for 16000,13000,75000,0,1 inputs using the linear regression model\n",
    "result=loaded_model.predict([[16000,13000,75000,0,1]])"
   ]
  },
  {
   "cell_type": "code",
   "execution_count": 12,
   "id": "bb17d43d",
   "metadata": {},
   "outputs": [
    {
     "data": {
      "text/plain": [
       "array([[65829.09054025]])"
      ]
     },
     "execution_count": 12,
     "metadata": {},
     "output_type": "execute_result"
    }
   ],
   "source": [
    "#display the result for all 5 inputs\n",
    "result"
   ]
  }
 ],
 "metadata": {
  "kernelspec": {
   "display_name": "Python 3 (ipykernel)",
   "language": "python",
   "name": "python3"
  },
  "language_info": {
   "codemirror_mode": {
    "name": "ipython",
    "version": 3
   },
   "file_extension": ".py",
   "mimetype": "text/x-python",
   "name": "python",
   "nbconvert_exporter": "python",
   "pygments_lexer": "ipython3",
   "version": "3.11.5"
  }
 },
 "nbformat": 4,
 "nbformat_minor": 5
}
